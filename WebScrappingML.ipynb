{
  "nbformat": 4,
  "nbformat_minor": 0,
  "metadata": {
    "colab": {
      "provenance": [],
      "authorship_tag": "ABX9TyPFxsk0xXw+yDzQb76JLOL/",
      "include_colab_link": true
    },
    "kernelspec": {
      "name": "python3",
      "display_name": "Python 3"
    },
    "language_info": {
      "name": "python"
    }
  },
  "cells": [
    {
      "cell_type": "markdown",
      "metadata": {
        "id": "view-in-github",
        "colab_type": "text"
      },
      "source": [
        "<a href=\"https://colab.research.google.com/github/Al3xGROS/WebScappingML/blob/main/WebScrappingML.ipynb\" target=\"_parent\"><img src=\"https://colab.research.google.com/assets/colab-badge.svg\" alt=\"Open In Colab\"/></a>"
      ]
    },
    {
      "cell_type": "code",
      "source": [
        "from bs4.element import PageElement\n",
        "import requests\n",
        "from bs4 import BeautifulSoup\n",
        "import random\n",
        "\n",
        "\n",
        "URL = \"https://fr.wikipedia.org/wiki/Albert_Joly\"\n",
        "URL2 = \"https://fr.wikipedia.org/wiki/Tom_Cruise\"\n",
        "\n",
        "def scrape(url):\n",
        "  page = requests.get(url)\n",
        "\n",
        "  soup = BeautifulSoup(page.content, 'html.parser')\n",
        "\n",
        "  title = soup.find(\"b\")\n",
        "  realTitle = title.get_text()\n",
        "\n",
        "  data = '' \n",
        "  text = \"\"\n",
        "  for data in soup.find_all(\"p\"):\n",
        "    text += data.get_text()\n",
        "\n",
        "  result = text[text.find(realTitle):]\n",
        "  print(result)\n",
        "\n",
        "scrape(URL)"
      ],
      "metadata": {
        "colab": {
          "base_uri": "https://localhost:8080/"
        },
        "id": "RdQ80AIGj9Z5",
        "outputId": "0881bc23-6c12-49a7-9c90-b5641a1aa51a"
      },
      "execution_count": 6,
      "outputs": [
        {
          "output_type": "stream",
          "name": "stdout",
          "text": [
            "Albert Joly est un avocat et homme politique français né le 10 novembre 1844 à Versailles (Yvelines) et décédé le 4 décembre 1880 à Versailles.\n",
            "Après ses études au Lycée Impérial de Versailles puis à l'école de Droit de Paris[1], il obtient son inscription au stage du barreau de Versailles le 28 novembre 1868.\n",
            "Non conformiste, voire révolutionnaire, il se verra maintenu pendant quatre ans dans le statut de stagiaire, n'obtenant son inscription au tableau de l'Ordre qu'en 1872.\n",
            "En 1871, devant les Conseils de guerre, il assura la défense de très nombreux communards dont celles de Louis Rossel et d'Henri Rochefort.\n",
            "Devant la Cour d'Assises de Versailles il obtint 25 acquittements pour les 78 accusés dont il assura la défense[2].\n",
            "Il plaida d'innombrables procès de presse dans toute la France, pour des journaux républicains poursuivis à la demande du gouvernement de l'Ordre moral ou des autorités religieuses.\n",
            "Dès sa jeunesse, il milita contre l'Empire dans les milieux étudiants parisiens et fit campagne, à Versailles, pour le non au Plébiscite du 8 mai 1870.\n",
            "La même année il fut élu au conseil municipal de Versailles et réélu constamment jusqu'à sa mort.\n",
            "Élu comme Républicain jusqu'à son décès comme député de Seine-et-Oise dans  l'arrondissement de Versailles  le 20 février 1876, à l'âge de 31 ans , il siégea avec le groupe de l'Union républicaine de son ami Gambetta[3].\n",
            "Il se manifesta à la Chambre des députés par de remarquables interventions en faveur de la laïcité. Opposant au coup de force de Mac-Mahon du Seize mai, il vota le manifeste des 363 qui provoqua la dissolution de la Chambre.\n",
            "Réélu le 14 octobre 1877, il déclina le poste de sous-secrétaire d'État à l'Intérieur[4]. Membre de la Commission du budget, il fut rapporteur du budget de la justice ainsi que du budget de l'Algérie où il fit de fréquents séjours.\n",
            "Initié franc-maçon très jeune, à l'âge de 22 ans, pendant ses études à Paris, il fréquenta de nombreuses loges du Grand Orient de France, à Paris, Versailles ou Rambouillet. Il y fut appelé à d'importantes responsabilités comme vénérable de la loge Le Progrès à Paris, de vénérable de la loge Les Amis Philanthropes et Discrets Réunis à Versailles et de membre du conseil de l'Ordre du Grand Orient de France. \n",
            "Il mourut prématurément à l'âge de 36 ans d'une fièvre typhoïde, au retour d'un voyage en Algérie[3].\n",
            "La conférence des Avocats du Barreau de Versailles organise un concours d'éloquence qui porte son nom.\n",
            "Le cercle Albert Joly fleurit chaque année sa tombe au cimetière Notre-Dame de Versailles[3], ville dont une rue porte son nom.\n",
            "\n"
          ]
        }
      ]
    }
  ]
}